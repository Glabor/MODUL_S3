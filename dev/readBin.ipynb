{
 "cells": [
  {
   "cell_type": "code",
   "execution_count": null,
   "metadata": {},
   "outputs": [],
   "source": [
    "fn=\"hw\"\n",
    "num=\"6\"\n",
    "date=\"2024-05-07_11-33-36\"\n",
    "with open(f\"{fn}.bin\", 'rb') as file:\n",
    "# with open(f\"../bin/raw/{fn}/{num}/{date}.bin\", 'rb') as file:\n",
    "    content=file.readlines()\n",
    "    content = b''.join(content)\n",
    "    print(content)"
   ]
  },
  {
   "cell_type": "code",
   "execution_count": null,
   "metadata": {},
   "outputs": [],
   "source": [
    "import pandas as pd\n",
    "import plotly.express as px\n",
    "\n",
    "param={\"sick\":6, \"lsm\":10, \"adxl\":10, \"hmr\":10, \"hw\":13}\n",
    "lt,lx,ly,lz=[],[],[],[]\n",
    "for i in range(0,len(content),param[fn]):\n",
    "    lt.append(int.from_bytes(content[i:i+4],byteorder='big', signed=False))  \n",
    "    if fn==\"sick\":\n",
    "        lx.append(int.from_bytes(content[i+4:i+6],byteorder='big', signed=True))\n",
    "    elif fn==\"hw\":\n",
    "        lx.append(int.from_bytes(content[i+4:i+7],byteorder='big', signed=True))\n",
    "        ly.append(int.from_bytes(content[i+7:i+10],byteorder='big', signed=True))\n",
    "        lz.append(int.from_bytes(content[i+10:i+13],byteorder='big', signed=True))\n",
    "    else:\n",
    "        lx.append(int.from_bytes(content[i+4:i+6],byteorder='big', signed=True)/100)\n",
    "        ly.append(int.from_bytes(content[i+6:i+8],byteorder='big', signed=True)/100)\n",
    "        lz.append(int.from_bytes(content[i+8:i+10],byteorder='big', signed=True)/100)\n",
    "    # print(t,x/100,y/100,z/100)"
   ]
  },
  {
   "cell_type": "code",
   "execution_count": null,
   "metadata": {},
   "outputs": [],
   "source": [
    "df=pd.DataFrame((lt,lx,ly,lz)).transpose()\n",
    "df.columns=(\"t\",\"x\",\"y\",\"z\")\n",
    "# df_a=df[(df[\"t\"]<10e6)&(df[\"t\"]>9e6)]\n",
    "df_a=df[(df[\"t\"]<10e6)]"
   ]
  },
  {
   "cell_type": "code",
   "execution_count": null,
   "metadata": {},
   "outputs": [],
   "source": [
    "fig =px.line([],[], title=\"sick measure\", labels=\"ax\", markers=True)\n",
    "fig =fig.add_scatter(x=df_a[\"t\"], y=df_a[\"x\"], mode=\"lines+markers\")\n",
    "if fn!=\"sick\":\n",
    "    fig =fig.add_scatter(x=df_a[\"t\"], y=df_a[\"y\"], mode=\"lines+markers\")\n",
    "    fig =fig.add_scatter(x=df_a[\"t\"], y=df_a[\"z\"], mode=\"lines+markers\")\n",
    "fig.update_layout( showlegend=True)\n",
    "fig.show()\n"
   ]
  },
  {
   "cell_type": "code",
   "execution_count": null,
   "metadata": {},
   "outputs": [],
   "source": [
    "import numpy as np\n",
    "print(np.mean(lx), np.mean(ly), np.mean(lz))"
   ]
  },
  {
   "cell_type": "code",
   "execution_count": 7,
   "metadata": {},
   "outputs": [
    {
     "name": "stdout",
     "output_type": "stream",
     "text": [
      "[454129, 454130, 454116, 454105, 454099, 454097, 454099, 454106, 454116, 454125, 454131, 454135, 454135, 454144, 454144, 454144, 454149, 454143, 454144, 454139, 454136, 454137, 454137, 454135, 454113, 454072, 454073, 454064, 454070, 454093, 454099, 454106, 454112, 454115, 454118, 454122, 454126, 454129, 454128, 454123, 454121, 454116, 454115, 454117, 454116, 454118, 454118, 454117, 454117, 454116, 454116, 454117, 454116, 454117, 454117, 454117, 454118, 454119, 454120, 454120, 454122, 454122, 454123, 454121, 454121, 454122, 454122, 454122, 454122, 454121, 454121, 454121, 454121, 454121, 454121, 454121, 454119, 454119, 454126, 454127, 454125, 454125, 454125, 454125, 454126, 454127, 454124, 454124, 454126, 454128, 454127, 454128, 454125, 454121, 454123, 454134, 454130, 454115]\n",
      "98\n",
      "avg :454120.193877551\n",
      "min :454064\n",
      "max :454149\n"
     ]
    }
   ],
   "source": [
    "\n",
    "with open(f\"./sensFiles/LHR.bin\", 'rb') as file:\n",
    "# with open(f\"../bin/raw/{fn}/{num}/{date}.bin\", 'rb') as file:\n",
    "    content=file.readlines()\n",
    "    content = b''.join(content)\n",
    "listLDC=[]\n",
    "for i in range(0,len(content),3):\n",
    "    listLDC.append(int.from_bytes(content[i:i+3],byteorder='big', signed=False))\n",
    "listLDC=listLDC[:-1]\n",
    "print(listLDC)\n",
    "import numpy as np\n",
    "print(len(listLDC))\n",
    "print(f\"avg :{np.mean(listLDC)}\")\n",
    "print(f\"min :{np.min(listLDC)}\")\n",
    "print(f\"max :{np.max(listLDC)}\")"
   ]
  }
 ],
 "metadata": {
  "kernelspec": {
   "display_name": "Python 3",
   "language": "python",
   "name": "python3"
  },
  "language_info": {
   "codemirror_mode": {
    "name": "ipython",
    "version": 3
   },
   "file_extension": ".py",
   "mimetype": "text/x-python",
   "name": "python",
   "nbconvert_exporter": "python",
   "pygments_lexer": "ipython3",
   "version": "3.11.4"
  }
 },
 "nbformat": 4,
 "nbformat_minor": 2
}
