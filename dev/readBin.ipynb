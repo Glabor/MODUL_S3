{
 "cells": [
  {
   "cell_type": "code",
   "execution_count": null,
   "metadata": {},
   "outputs": [],
   "source": [
    "fn=\"hmr\"\n",
    "num=\"6\"\n",
    "date=\"2024-05-07_11-33-36\"\n",
    "with open(f\"{fn}.bin\", 'rb') as file:\n",
    "# with open(f\"../bin/raw/{fn}/{num}/{date}.bin\", 'rb') as file:\n",
    "    content=file.readlines()\n",
    "    content = b''.join(content)\n",
    "    print(content)"
   ]
  },
  {
   "cell_type": "code",
   "execution_count": null,
   "metadata": {},
   "outputs": [],
   "source": [
    "import pandas as pd\n",
    "import plotly.express as px\n",
    "\n",
    "param={\"sick\":6, \"lsm\":10, \"adxl\":10, \"hmr\":10, \"hw\":13}\n",
    "lt,lx,ly,lz=[],[],[],[]\n",
    "for i in range(0,len(content),param[fn]):\n",
    "    lt.append(int.from_bytes(content[i:i+4],byteorder='big', signed=False))  \n",
    "    if fn==\"sick\":\n",
    "        lx.append(int.from_bytes(content[i+4:i+6],byteorder='big', signed=True))\n",
    "    elif fn==\"hw\":\n",
    "        lx.append(int.from_bytes(content[i+4:i+7],byteorder='big', signed=True))\n",
    "        ly.append(int.from_bytes(content[i+7:i+10],byteorder='big', signed=True))\n",
    "        lz.append(int.from_bytes(content[i+10:i+13],byteorder='big', signed=True))\n",
    "    else:\n",
    "        lx.append(int.from_bytes(content[i+4:i+6],byteorder='big', signed=True)/100)\n",
    "        ly.append(int.from_bytes(content[i+6:i+8],byteorder='big', signed=True)/100)\n",
    "        lz.append(int.from_bytes(content[i+8:i+10],byteorder='big', signed=True)/100)\n",
    "    # print(t,x/100,y/100,z/100)"
   ]
  },
  {
   "cell_type": "code",
   "execution_count": null,
   "metadata": {},
   "outputs": [],
   "source": [
    "df=pd.DataFrame((lt,lx,ly,lz)).transpose()\n",
    "df.columns=(\"t\",\"x\",\"y\",\"z\")\n",
    "# df_a=df[(df[\"t\"]<10e6)&(df[\"t\"]>9e6)]\n",
    "df_a=df[(df[\"t\"]<10e6)]"
   ]
  },
  {
   "cell_type": "code",
   "execution_count": null,
   "metadata": {},
   "outputs": [],
   "source": [
    "fig =px.line([],[], title=\"sick measure\", labels=\"ax\", markers=True)\n",
    "fig =fig.add_scatter(x=df_a[\"t\"], y=df_a[\"x\"], mode=\"lines+markers\")\n",
    "if fn!=\"sick\":\n",
    "    fig =fig.add_scatter(x=df_a[\"t\"], y=df_a[\"y\"], mode=\"lines+markers\")\n",
    "    fig =fig.add_scatter(x=df_a[\"t\"], y=df_a[\"z\"], mode=\"lines+markers\")\n",
    "fig.update_layout( showlegend=True)\n",
    "fig.show()\n"
   ]
  },
  {
   "cell_type": "code",
   "execution_count": null,
   "metadata": {},
   "outputs": [],
   "source": [
    "import numpy as np\n",
    "print(np.mean(lx), np.mean(ly), np.mean(lz))"
   ]
  },
  {
   "cell_type": "code",
   "execution_count": 19,
   "metadata": {},
   "outputs": [
    {
     "name": "stdout",
     "output_type": "stream",
     "text": [
      "[61037, 61033, 61039, 61035, 61012, 61012, 61024, 61030, 61030, 61030, 61015, 61026, 61018, 61014, 60999, 60975, 60957, 60951, 60963, 60988, 60989, 60996, 61011, 60998, 61005, 60984, 60969, 60941, 60925, 60929, 60943, 60981, 60992, 60988, 60983, 60957, 60937, 60950, 60948, 60949, 60953, 60963, 60971, 60975, 60980, 60996, 60992, 60991, 60989, 60988, 60988, 60988, 60990, 60989, 60989, 60986, 60972, 60963, 60959, 60959, 60961, 60963, 60964, 60963, 60957, 60945, 60922, 60905, 60893, 60884, 60890, 60897, 60901, 60823, 60625, 60584, 60718, 60860, 60905, 60920, 60925, 60926, 60925, 60915, 60896, 60857, 60802, 60788, 60807, 60828, 60860, 60870, 60848, 60821, 60818, 60840, 60873, 60883]\n",
      "avg :60939.857142857145\n",
      "min :60584\n",
      "max :61039\n"
     ]
    }
   ],
   "source": [
    "\n",
    "with open(f\"./sensFiles/LHR.bin\", 'rb') as file:\n",
    "# with open(f\"../bin/raw/{fn}/{num}/{date}.bin\", 'rb') as file:\n",
    "    content=file.readlines()\n",
    "    content = b''.join(content)\n",
    "listLDC=[]\n",
    "for i in range(0,len(content),3):\n",
    "    listLDC.append(int.from_bytes(content[i+4:i+6],byteorder='big', signed=False))\n",
    "listLDC=listLDC[:-1]\n",
    "print(listLDC)\n",
    "import numpy as np\n",
    "print(f\"avg :{np.mean(listLDC)}\")\n",
    "print(f\"min :{np.min(listLDC)}\")\n",
    "print(f\"max :{np.max(listLDC)}\")"
   ]
  }
 ],
 "metadata": {
  "kernelspec": {
   "display_name": "Python 3",
   "language": "python",
   "name": "python3"
  },
  "language_info": {
   "codemirror_mode": {
    "name": "ipython",
    "version": 3
   },
   "file_extension": ".py",
   "mimetype": "text/x-python",
   "name": "python",
   "nbconvert_exporter": "python",
   "pygments_lexer": "ipython3",
   "version": "3.11.4"
  }
 },
 "nbformat": 4,
 "nbformat_minor": 2
}
